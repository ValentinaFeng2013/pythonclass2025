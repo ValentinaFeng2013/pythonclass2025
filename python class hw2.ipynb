{
 "cells": [
  {
   "cell_type": "code",
   "execution_count": 6,
   "id": "532cb9f6",
   "metadata": {},
   "outputs": [
    {
     "name": "stdout",
     "output_type": "stream",
     "text": [
      "Please enter your city: Buffalo Grove\n"
     ]
    },
    {
     "data": {
      "text/plain": [
       "'sunny'"
      ]
     },
     "execution_count": 6,
     "metadata": {},
     "output_type": "execute_result"
    }
   ],
   "source": [
    "# AI weather recommender \n",
    "import requests\n",
    "\n",
    "city = input(\"Please enter your city: \")\n",
    "url= f\"https://goweather.herokuapp.com/weather/{city}\"\n",
    "response=requests.get(url).json()\n",
    "# response\n",
    "\n",
    "response[\"description\"].lower()"
   ]
  },
  {
   "cell_type": "code",
   "execution_count": 7,
   "id": "922b4366",
   "metadata": {},
   "outputs": [
    {
     "name": "stdout",
     "output_type": "stream",
     "text": [
      "Play games outside!\n"
     ]
    }
   ],
   "source": [
    "weather = response[\"description\"].lower()\n",
    "if weather == \"rainy\" or weather ==\"patchy rain nearby\":\n",
    "    print(\"Play board games inside!\")\n",
    "elif weather == \"snowy\":\n",
    "    print(\"Build a snowman!\")\n",
    "elif weather == \"sunny\" or weather ==\"clear\":\n",
    "    print(\"Play games outside!\")\n",
    "elif weather == \"partly cloudy\":\n",
    "    print(\"Curl up with a good book and warm drink!\")\n",
    "elif weather == \"windy\":\n",
    "    print(\"Fly a kite!\")\n",
    "else:\n",
    "    print(\"No recommendation!\")"
   ]
  },
  {
   "cell_type": "code",
   "execution_count": 8,
   "id": "27f8b22d",
   "metadata": {},
   "outputs": [
    {
     "name": "stdout",
     "output_type": "stream",
     "text": [
      "Rock,paper,scissors,shoot!\n",
      "scissors\n"
     ]
    }
   ],
   "source": [
    "# AI rock, paper, scissors! ver.1\n",
    "print(\"Rock,paper,scissors,shoot!\")\n",
    "\n",
    "import random\n",
    "\n",
    "def weighted_rock_paper_scissors():\n",
    "    \"\"\"\n",
    "    Randomly outputs 'rock', 'paper', or 'scissors' with specified probabilities.\n",
    "        \n",
    "    Returns:\n",
    "        str: 'rock', 'paper', or 'scissors' based on weighted probabilities.\n",
    "    \"\"\"\n",
    "        \n",
    "    choices = ['rock', 'paper', 'scissors']\n",
    "    weights = [0.4, 0.3, 0.3]\n",
    "    return random.choices(choices, weights=weights, k=1) [0]\n",
    "\n",
    "result = weighted_rock_paper_scissors()\n",
    "print(result)"
   ]
  },
  {
   "cell_type": "code",
   "execution_count": 15,
   "id": "d3b31f23",
   "metadata": {},
   "outputs": [
    {
     "name": "stdout",
     "output_type": "stream",
     "text": [
      "Rock,paper,scissors,shoot!\n",
      "rock\n",
      "scissors\n",
      "Player_1 wins!\n"
     ]
    }
   ],
   "source": [
    "# AI rock, paper, scissors! ver.2\n",
    "import random\n",
    "\n",
    "\n",
    "def weighted_rock_paper_scissors():\n",
    "    \"\"\"\n",
    "    Randomly outputs 'rock', 'paper', or 'scissors' with specified probabilities.\n",
    "        \n",
    "    Returns:\n",
    "        str: 'rock', 'paper', or 'scissors' based on weighted probabilities.\n",
    "    \"\"\"\n",
    "        \n",
    "    choices = ['rock', 'paper', 'scissors']\n",
    "    weights = [0.4, 0.3, 0.3]\n",
    "    return random.choices(choices, weights=weights, k=1) [0]\n",
    "\n",
    "print(\"Rock,paper,scissors,shoot!\")\n",
    "Player_1 = weighted_rock_paper_scissors()\n",
    "print(Player_1)\n",
    "Player_2 = weighted_rock_paper_scissors()\n",
    "print(Player_2)\n",
    "\n",
    "if Player_1 == Player_2:\n",
    "    print(\"Tie!\")\n",
    "else:\n",
    "    if Player_1 == 'scissors':\n",
    "        if Player_2 == 'paper':\n",
    "            print (\"Player_1 wins!\")\n",
    "        elif Player_2 == 'rock':\n",
    "            print (\"Player_2 wins!\")\n",
    "    elif Player_1 == 'paper':\n",
    "        if Player_2 == 'scissors':\n",
    "            print (\"Player_2 wins!\")\n",
    "        if Player_2 == 'rock':\n",
    "            print (\"Player_1 wins!\")\n",
    "    elif Player_1 == 'rock': \n",
    "        if Player_2 == 'scissors':\n",
    "            print (\"Player_1 wins!\")\n",
    "        if Player_2 == 'paper':\n",
    "            print (\"Player_2 wins!\")        \n",
    "    "
   ]
  },
  {
   "cell_type": "code",
   "execution_count": null,
   "id": "b075669a",
   "metadata": {},
   "outputs": [],
   "source": []
  },
  {
   "cell_type": "code",
   "execution_count": null,
   "id": "9acb6daa",
   "metadata": {},
   "outputs": [],
   "source": []
  }
 ],
 "metadata": {
  "kernelspec": {
   "display_name": "Python 3",
   "language": "python",
   "name": "python3"
  },
  "language_info": {
   "codemirror_mode": {
    "name": "ipython",
    "version": 3
   },
   "file_extension": ".py",
   "mimetype": "text/x-python",
   "name": "python",
   "nbconvert_exporter": "python",
   "pygments_lexer": "ipython3",
   "version": "3.8.8"
  }
 },
 "nbformat": 4,
 "nbformat_minor": 5
}
